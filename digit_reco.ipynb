{
 "cells": [
  {
   "cell_type": "markdown",
   "metadata": {},
   "source": [
    "Basé sur le noyau Keras CNN avec une précision supérieure à 99%"
   ],
   "execution_count": null,
   "outputs": []
  },
  {
   "cell_type": "code",
   "execution_count": 29,
   "metadata": {},
   "outputs": [],
   "source": [
    "import numpy as np\n",
    "\n",
    "from keras.utils import np_utils\n",
    "from keras.models import Sequential\n",
    "from keras.layers import Dense, Dropout, Flatten, Activation, Conv2D, MaxPooling2D\n",
    "from keras.optimizers import Adam\n",
    "from keras.callbacks import EarlyStopping, ModelCheckpoint\n",
    "from keras.preprocessing.image import ImageDataGenerator\n",
    "from keras.layers.normalization import BatchNormalization"
   ]
  },
  {
   "cell_type": "code",
   "execution_count": null,
   "metadata": {
    "collapsed": true
   },
   "outputs": [],
   "source": [
    "train_file = \"C:/Users/aaron/OneDrive/Bureau/Digit_Recognizer/data/train.csv\"\n",
    "test_file = \"C:/Users/aaron/OneDrive/Bureau/Digit_Recognizer/data/test.csv\"\n",
    "output_file = \"C:/Users/aaron/OneDrive/Bureau/Digit_Recognizer/data/sample_submission.csv\""
   ]
  },
  {
   "cell_type": "code",
   "execution_count": null,
   "metadata": {},
   "outputs": [],
   "source": [
    "mnist_dataset = np.loadtxt(train_file, skiprows=1, dtype='int', delimiter=',')"
   ]
  },
  {
   "cell_type": "code",
   "execution_count": 10,
   "metadata": {
    "collapsed": true
   },
   "outputs": [],
   "source": [
    "val_split = 0.125\n",
    "n_raw = mnist_dataset.shape[0]\n",
    "n_val = int(n_raw * val_split + 0.5)\n",
    "n_train = n_raw - n_val\n",
    "\n",
    "np.random.shuffle(mnist_dataset)\n",
    "x_val, x_train = mnist_dataset[:n_val,1:], mnist_dataset[n_val:,1:]\n",
    "y_val, y_train = mnist_dataset[:n_val,0], mnist_dataset[n_val:,0]\n",
    "\n",
    "x_train = x_train.astype(\"float32\")/255.0\n",
    "x_val = x_val.astype(\"float32\")/255.0\n",
    "y_train = np_utils.to_categorical(y_train)\n",
    "y_val = np_utils.to_categorical(y_val)\n",
    "\n",
    "n_classes = y_train.shape[1]\n",
    "x_train = x_train.reshape(n_train, 28, 28, 1)\n",
    "x_val = x_val.reshape(n_val, 28, 28, 1)"
   ]
  },
  {
   "cell_type": "code",
   "execution_count": 11,
   "metadata": {},
   "outputs": [],
   "source": [
    "model = Sequential()\n",
    "\n",
    "model.add(Conv2D(filters = 32, kernel_size = (3, 3), input_shape = (28, 28, 1), \n",
    "                 padding='same', kernel_initializer='he_normal'))\n",
    "model.add(Activation('elu'))\n",
    "model.add(BatchNormalization())\n",
    "\n",
    "model.add(Conv2D(filters = 64, kernel_size = (3, 3), \n",
    "                 padding='same',kernel_initializer='he_normal'))\n",
    "model.add(Activation('elu'))\n",
    "model.add(BatchNormalization())\n",
    "model.add(MaxPooling2D(pool_size=(2,2)))\n",
    "\n",
    "model.add(Conv2D(filters = 128, kernel_size = (3, 3),\n",
    "                 padding='same',kernel_initializer='he_normal'))\n",
    "model.add(Activation('elu'))\n",
    "model.add(BatchNormalization())\n",
    "model.add(MaxPooling2D(pool_size=(2,2)))\n",
    "\n",
    "model.add(Conv2D(filters = 128, kernel_size = (3, 3),\n",
    "                 padding='same',kernel_initializer='he_normal'))\n",
    "model.add(Activation('elu'))\n",
    "model.add(BatchNormalization())\n",
    "model.add(MaxPooling2D(pool_size=(2,2)))\n",
    "model.add(Dropout(0.25))\n",
    "\n",
    "model.add(Flatten())\n",
    "model.add(Dense(1024, kernel_initializer='he_normal'))\n",
    "model.add(Activation('elu'))\n",
    "model.add(Dropout(0.5))\n",
    "\n",
    "model.add(Dense(256, kernel_initializer='he_normal'))\n",
    "model.add(Activation('elu'))\n",
    "model.add(Dropout(0.5))\n",
    "\n",
    "model.add(Dense(10, kernel_initializer='he_normal'))\n",
    "model.add(Activation('softmax'))"
   ]
  },
  {
   "cell_type": "code",
   "execution_count": 12,
   "metadata": {},
   "outputs": [
    {
     "output_type": "stream",
     "name": "stdout",
     "text": "Model: \"sequential_1\"\n_________________________________________________________________\nLayer (type)                 Output Shape              Param #   \n=================================================================\nconv2d_1 (Conv2D)            (None, 28, 28, 32)        320       \n_________________________________________________________________\nactivation_1 (Activation)    (None, 28, 28, 32)        0         \n_________________________________________________________________\nbatch_normalization_1 (Batch (None, 28, 28, 32)        128       \n_________________________________________________________________\nconv2d_2 (Conv2D)            (None, 28, 28, 64)        18496     \n_________________________________________________________________\nactivation_2 (Activation)    (None, 28, 28, 64)        0         \n_________________________________________________________________\nbatch_normalization_2 (Batch (None, 28, 28, 64)        256       \n_________________________________________________________________\nmax_pooling2d_1 (MaxPooling2 (None, 14, 14, 64)        0         \n_________________________________________________________________\nconv2d_3 (Conv2D)            (None, 14, 14, 128)       73856     \n_________________________________________________________________\nactivation_3 (Activation)    (None, 14, 14, 128)       0         \n_________________________________________________________________\nbatch_normalization_3 (Batch (None, 14, 14, 128)       512       \n_________________________________________________________________\nmax_pooling2d_2 (MaxPooling2 (None, 7, 7, 128)         0         \n_________________________________________________________________\nconv2d_4 (Conv2D)            (None, 7, 7, 128)         147584    \n_________________________________________________________________\nactivation_4 (Activation)    (None, 7, 7, 128)         0         \n_________________________________________________________________\nbatch_normalization_4 (Batch (None, 7, 7, 128)         512       \n_________________________________________________________________\nmax_pooling2d_3 (MaxPooling2 (None, 3, 3, 128)         0         \n_________________________________________________________________\ndropout_1 (Dropout)          (None, 3, 3, 128)         0         \n_________________________________________________________________\nflatten_1 (Flatten)          (None, 1152)              0         \n_________________________________________________________________\ndense_1 (Dense)              (None, 1024)              1180672   \n_________________________________________________________________\nactivation_5 (Activation)    (None, 1024)              0         \n_________________________________________________________________\ndropout_2 (Dropout)          (None, 1024)              0         \n_________________________________________________________________\ndense_2 (Dense)              (None, 256)               262400    \n_________________________________________________________________\nactivation_6 (Activation)    (None, 256)               0         \n_________________________________________________________________\ndropout_3 (Dropout)          (None, 256)               0         \n_________________________________________________________________\ndense_3 (Dense)              (None, 10)                2570      \n_________________________________________________________________\nactivation_7 (Activation)    (None, 10)                0         \n=================================================================\nTotal params: 1,687,306\nTrainable params: 1,686,602\nNon-trainable params: 704\n_________________________________________________________________\nNone\n"
    }
   ],
   "source": [
    "print(model.summary())"
   ]
  },
  {
   "cell_type": "markdown",
   "metadata": {},
   "source": [
    "Cette fonction Keras simplifie l'augmentation, c'est-à-dire qu'elle modifie de manière aléatoire l'entrée pour la formation pour éviter le surapprentissage."
   ],
   "execution_count": null,
   "outputs": []
  },
  {
   "cell_type": "code",
   "execution_count": 14,
   "metadata": {
    "collapsed": true
   },
   "outputs": [],
   "source": [
    "datagen = ImageDataGenerator(zoom_range = 0.1,\n",
    "                            height_shift_range = 0.1,\n",
    "                            width_shift_range = 0.1,\n",
    "                            rotation_range = 20)"
   ]
  },
  {
   "cell_type": "code",
   "execution_count": 18,
   "metadata": {
    "collapsed": true
   },
   "outputs": [],
   "source": [
    "model.compile(loss='categorical_crossentropy', optimizer = Adam(lr=5e-4), metrics = [\"accuracy\"])"
   ]
  },
  {
   "cell_type": "markdown",
   "metadata": {},
   "source": [
    "EarlyStopping n'est important que si nous prévoyons d'exécuter de nombreuses époques. ModelCheckpoint est plus utile ici, car vnous pouvons reprendre la formation après un redémarrage du noyau: exécutez simplement\n",
    "\n",
    ">model.load_weights ('' mnist.h5 '')"
   ],
   "execution_count": null,
   "outputs": []
  },
  {
   "cell_type": "code",
   "execution_count": 19,
   "metadata": {
    "collapsed": true
   },
   "outputs": [],
   "source": [
    "callbacks = [EarlyStopping(monitor='val_loss', min_delta=0, patience=2, verbose=2, mode='auto'),\n",
    "            ModelCheckpoint('mnist.h5', monitor='val_loss', save_best_only=True, verbose=0)]"
   ]
  },
  {
   "cell_type": "markdown",
   "metadata": {},
   "source": [
    "Formation de modèle. Notez que la perte de formation est initialement beaucoup plus importante que la perte de validation, en raison de l'abandon."
   ],
   "execution_count": null,
   "outputs": []
  },
  {
   "cell_type": "code",
   "execution_count": 22,
   "metadata": {
    "collapsed": true
   },
   "outputs": [],
   "source": [
    "read_model = False\n",
    "if read_model:\n",
    "    if os.path.isfile(\"C:/Users/aaron/OneDrive/Bureau/Digit_Recognizer/output/model.h5\"):\n",
    "        model = load_model(\"C:/Users/aaron/OneDrive/Bureau/Digit_Recognizer/output/model.h5\")"
   ]
  },
  {
   "cell_type": "code",
   "execution_count": 21,
   "metadata": {},
   "outputs": [
    {
     "output_type": "stream",
     "name": "stdout",
     "text": "Epoch 1/10\n18/17 [==============================] - 192s 11s/step - loss: 2.8184 - accuracy: 0.3811 - val_loss: 2.2421 - val_accuracy: 0.3878\nEpoch 2/10\n18/17 [==============================] - 189s 11s/step - loss: 0.9464 - accuracy: 0.7196 - val_loss: 1.5901 - val_accuracy: 0.4966\nEpoch 3/10\n18/17 [==============================] - 189s 11s/step - loss: 0.5736 - accuracy: 0.8305 - val_loss: 0.8703 - val_accuracy: 0.7143\nEpoch 4/10\n18/17 [==============================] - 193s 11s/step - loss: 0.4143 - accuracy: 0.8770 - val_loss: 0.4270 - val_accuracy: 0.8556\nEpoch 5/10\n18/17 [==============================] - 191s 11s/step - loss: 0.3418 - accuracy: 0.8980 - val_loss: 0.3265 - val_accuracy: 0.8947\nEpoch 6/10\n18/17 [==============================] - 192s 11s/step - loss: 0.2866 - accuracy: 0.9159 - val_loss: 0.2206 - val_accuracy: 0.9299\nEpoch 7/10\n18/17 [==============================] - 192s 11s/step - loss: 0.2522 - accuracy: 0.9264 - val_loss: 0.2526 - val_accuracy: 0.9200\nEpoch 8/10\n18/17 [==============================] - 191s 11s/step - loss: 0.2271 - accuracy: 0.9347 - val_loss: 0.1998 - val_accuracy: 0.9368\nEpoch 9/10\n18/17 [==============================] - 192s 11s/step - loss: 0.1977 - accuracy: 0.9421 - val_loss: 0.1287 - val_accuracy: 0.9610\nEpoch 10/10\n18/17 [==============================] - 191s 11s/step - loss: 0.1841 - accuracy: 0.9460 - val_loss: 0.1559 - val_accuracy: 0.9541\n"
    }
   ],
   "source": [
    "hist = model.fit_generator(datagen.flow(x_train, y_train, batch_size = 2048),\n",
    "                           steps_per_epoch = n_train/2048, \n",
    "                           epochs = 10, \n",
    "                           verbose = 1,  \n",
    "                           validation_data = (x_val, y_val),\n",
    "                           callbacks = callbacks)"
   ]
  },
  {
   "cell_type": "code",
   "execution_count": 23,
   "metadata": {},
   "outputs": [],
   "source": [
    "from keras.models import load_model\n",
    "\n",
    "# save json\n",
    "json_model = model.to_json()\n",
    "with open(\"C:/Users/aaron/OneDrive/Bureau/Digit_Recognizer/output/model.json\", \"w\") as json_file:\n",
    "    json_file.write(json_model)\n",
    "# save model\n",
    "model.save(\"C:/Users/aaron/OneDrive/Bureau/Digit_Recognizer/output/model.h5\")"
   ]
  },
  {
   "cell_type": "code",
   "execution_count": 24,
   "metadata": {
    "collapsed": true
   },
   "outputs": [],
   "source": [
    "mnist_testset = np.loadtxt(test_file, skiprows=1, dtype='int', delimiter=',')\n",
    "x_test = mnist_testset.astype(\"float32\")/255.0\n",
    "n_test = x_test.shape[0]\n",
    "x_test = x_test.reshape(n_test, 28, 28, 1)"
   ]
  },
  {
   "cell_type": "code",
   "execution_count": 25,
   "metadata": {
    "collapsed": true
   },
   "outputs": [],
   "source": [
    "y_test = model.predict(x_test, batch_size=128)"
   ]
  },
  {
   "cell_type": "markdown",
   "metadata": {},
   "source": [
    "y_test se compose de probabilités de classe, je sélectionne maintenant la classe avec la probabilité la plus élevée"
   ],
   "execution_count": null,
   "outputs": []
  },
  {
   "cell_type": "code",
   "execution_count": 26,
   "metadata": {
    "collapsed": true
   },
   "outputs": [],
   "source": [
    "y_index = np.argmax(y_test,axis=1)"
   ]
  },
  {
   "cell_type": "code",
   "execution_count": 27,
   "metadata": {
    "collapsed": true
   },
   "outputs": [],
   "source": [
    "with open(output_file, 'w') as f :\n",
    "    f.write('ImageId,Label\\n')\n",
    "    for i in range(0,n_test) :\n",
    "        f.write(\"\".join([str(i+1),',',str(y_index[i]),'\\n']))"
   ]
  },
  {
   "cell_type": "markdown",
   "metadata": {
    "collapsed": true
   },
   "source": [
    "# Kaggle Score 0,99,17 (99.17%)\n",
    "\n",
    "> Classement Kaggle\n",
    " >> aaron djoko : 666"
   ]
  }
 ],
 "metadata": {
  "kernelspec": {
   "display_name": "Python 3",
   "language": "python",
   "name": "python3"
  },
  "language_info": {
   "codemirror_mode": {
    "name": "ipython",
    "version": 3
   },
   "file_extension": ".py",
   "mimetype": "text/x-python",
   "name": "python",
   "nbconvert_exporter": "python",
   "pygments_lexer": "ipython3",
   "version": "3.8.2-final"
  }
 },
 "nbformat": 4,
 "nbformat_minor": 1
}
